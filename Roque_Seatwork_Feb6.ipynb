{
  "cells": [
    {
      "cell_type": "code",
      "execution_count": 8,
      "metadata": {
        "id": "Qn52YD_aTqgP"
      },
      "outputs": [],
      "source": [
        "import numpy as np"
      ]
    },
    {
      "cell_type": "code",
      "execution_count": 9,
      "metadata": {
        "colab": {
          "base_uri": "https://localhost:8080/"
        },
        "id": "04WCphlALIpW",
        "outputId": "5b52f2ed-ca6a-4b3a-88ad-7877cfd7ec82"
      },
      "outputs": [
        {
          "name": "stdout",
          "output_type": "stream",
          "text": [
            "Output:\t 47\n"
          ]
        }
      ],
      "source": [
        "# Without using any activation function\n",
        "class Neuron:\n",
        "  def __init__(self, weight1, weight2):\n",
        "    self.weight1 = weight1\n",
        "    self.weight2 = weight2\n",
        "\n",
        "  def adder(self, input_val1, input_val2):\n",
        "    weight = input_val1 * self.weight1 + input_val2 * self.weight2\n",
        "\n",
        "    return weight\n",
        "\n",
        "weight1 = 5\n",
        "weight2 = 3\n",
        "neuron = Neuron(weight1, weight2)\n",
        "input1 = 7\n",
        "input2 = 4\n",
        "output = neuron.adder(input1, input2)\n",
        "print('Output:\\t', output)"
      ]
    },
    {
      "cell_type": "code",
      "execution_count": 10,
      "metadata": {
        "colab": {
          "base_uri": "https://localhost:8080/"
        },
        "id": "fzNToR7dTEoW",
        "outputId": "05c354b9-9d85-4a6d-a6ae-9e465bf75dc6"
      },
      "outputs": [
        {
          "name": "stdout",
          "output_type": "stream",
          "text": [
            "Output:\t 1.0\n"
          ]
        }
      ],
      "source": [
        "# Using sigmoid activation function\n",
        "class Neuron:\n",
        "  def __init__(self, weight1, weight2):\n",
        "    self.weight1 = weight1\n",
        "    self.weight2 = weight2\n",
        "\n",
        "  def adder(self, input_val1, input_val2):\n",
        "    weight = input_val1 * self.weight1 + input_val2 * self.weight2\n",
        "    output = self.sigmoid(weight)\n",
        "    return output\n",
        "\n",
        "  def sigmoid(self, x):\n",
        "    return 1/(1+np.exp(-x))\n",
        "\n",
        "weight1 = 5\n",
        "weight2 = 3\n",
        "neuron = Neuron(weight1, weight2)\n",
        "input1 = 7\n",
        "input2 = 4\n",
        "output = neuron.adder(input1, input2)\n",
        "print('Output:\\t', output)"
      ]
    },
    {
      "cell_type": "code",
      "execution_count": 12,
      "metadata": {
        "colab": {
          "base_uri": "https://localhost:8080/"
        },
        "id": "sAn7FiA0TtXn",
        "outputId": "cfd3d899-00dd-440f-ef4a-3b115386d969"
      },
      "outputs": [
        {
          "name": "stdout",
          "output_type": "stream",
          "text": [
            "Output:\t 47\n"
          ]
        }
      ],
      "source": [
        "# Using relu activation function\n",
        "class Neuron:\n",
        "  def __init__(self, weight1, weight2):\n",
        "    self.weight1 = weight1\n",
        "    self.weight2 = weight2\n",
        "\n",
        "  def adder(self, input_val1, input_val2):\n",
        "    weight = input_val1 * self.weight1 + input_val2 * self.weight2\n",
        "    output = self.relu(weight)\n",
        "    return output\n",
        "\n",
        "  def relu(self, x):\n",
        "    if x < 0:\n",
        "      return 0\n",
        "    elif x >= 0:\n",
        "      return x\n",
        "\n",
        "weight1 = 5\n",
        "weight2 = 3\n",
        "neuron = Neuron(weight1, weight2)\n",
        "input1 = 7\n",
        "input2 = 4\n",
        "output = neuron.adder(input1, input2)\n",
        "print('Output:\\t', output)"
      ]
    },
    {
      "cell_type": "code",
      "execution_count": 15,
      "metadata": {
        "colab": {
          "base_uri": "https://localhost:8080/"
        },
        "id": "vv5zIPqjWKqm",
        "outputId": "8a893b0f-6989-43ce-f93c-134446c42360"
      },
      "outputs": [
        {
          "name": "stdout",
          "output_type": "stream",
          "text": [
            "Output:\t 47\n"
          ]
        }
      ],
      "source": [
        "# Using relu activation function with lists as input and weight\n",
        "class Neuron:\n",
        "  def __init__(self, weights):\n",
        "    self.weights = np.array(weights)\n",
        "\n",
        "  def adder(self, inputs):\n",
        "    assert len(inputs) == len(self.weights)\n",
        "    weights = np.dot(inputs, self.weights)\n",
        "    output = self.relu(weights)\n",
        "    return output.tolist()\n",
        "\n",
        "  def relu(self, x):\n",
        "    if x < 0:\n",
        "      return 0\n",
        "    elif x >= 0:\n",
        "      return x\n",
        "\n",
        "weights = [5, 3]\n",
        "neuron = Neuron(weights)\n",
        "inputs = [7, 4]\n",
        "output = neuron.adder(inputs)\n",
        "print('Output:\\t', output)"
      ]
    },
    {
      "cell_type": "code",
      "execution_count": null,
      "metadata": {
        "id": "RIUjdLL8YOs2"
      },
      "outputs": [],
      "source": [
        "class NeuralNetwork:\n",
        "    def __init__(self, weights):\n",
        "        self.weights = weights.reshape(-1, 1)\n",
        "\n",
        "\n",
        "\n",
        "    def relu(self, x):\n",
        "        if x < 0:\n",
        "            return 0\n",
        "        elif x >= 0:\n",
        "            return x\n",
        "\n",
        "\n",
        "\n",
        "    def forward(self, inputs):\n",
        "        weights = np.dot(inputs, self.weights)\n",
        "        output = self.relu(weights)\n",
        "        return output\n",
        "\n",
        "inputs  = np.array([5, 6, 7, 8, 9])\n",
        "weights = np.array([1, 3, 5, 7, 9])\n",
        "\n",
        "\n",
        "nn = NeuralNetwork(weights)\n",
        "\n",
        "pred = nn.forward(inputs)\n",
        "print(\"Output:\\t\", pred)"
      ]
    }
  ],
  "metadata": {
    "colab": {
      "provenance": []
    },
    "kernelspec": {
      "display_name": "Python 3",
      "name": "python3"
    },
    "language_info": {
      "name": "python"
    }
  },
  "nbformat": 4,
  "nbformat_minor": 0
}
