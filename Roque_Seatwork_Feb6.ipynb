{
  "nbformat": 4,
  "nbformat_minor": 0,
  "metadata": {
    "colab": {
      "provenance": []
    },
    "kernelspec": {
      "name": "python3",
      "display_name": "Python 3"
    },
    "language_info": {
      "name": "python"
    }
  },
  "cells": [
    {
      "cell_type": "code",
      "source": [
        "import numpy as np"
      ],
      "metadata": {
        "id": "Qn52YD_aTqgP"
      },
      "execution_count": 8,
      "outputs": []
    },
    {
      "cell_type": "code",
      "source": [
        "# Without using any activation function\n",
        "class Neuron:\n",
        "  def __init__(self, weight1, weight2):\n",
        "    self.weight1 = weight1\n",
        "    self.weight2 = weight2\n",
        "\n",
        "  def adder(self, input_val1, input_val2):\n",
        "    weight = input_val1 * self.weight1 + input_val2 * self.weight2\n",
        "\n",
        "    return weight\n",
        "\n",
        "weight1 = 5\n",
        "weight2 = 3\n",
        "neuron = Neuron(weight1, weight2)\n",
        "input1 = 7\n",
        "input2 = 4\n",
        "output = neuron.adder(input1, input2)\n",
        "print('Output:\\t', output)"
      ],
      "metadata": {
        "colab": {
          "base_uri": "https://localhost:8080/"
        },
        "id": "04WCphlALIpW",
        "outputId": "5b52f2ed-ca6a-4b3a-88ad-7877cfd7ec82"
      },
      "execution_count": 9,
      "outputs": [
        {
          "output_type": "stream",
          "name": "stdout",
          "text": [
            "Output:\t 47\n"
          ]
        }
      ]
    },
    {
      "cell_type": "code",
      "source": [
        "# Using sigmoid activation function\n",
        "class Neuron:\n",
        "  def __init__(self, weight1, weight2):\n",
        "    self.weight1 = weight1\n",
        "    self.weight2 = weight2\n",
        "\n",
        "  def adder(self, input_val1, input_val2):\n",
        "    weight = input_val1 * self.weight1 + input_val2 * self.weight2\n",
        "    output = self.sigmoid(weight)\n",
        "    return output\n",
        "\n",
        "  def sigmoid(self, x):\n",
        "    return 1/(1+np.exp(-x))\n",
        "\n",
        "weight1 = 5\n",
        "weight2 = 3\n",
        "neuron = Neuron(weight1, weight2)\n",
        "input1 = 7\n",
        "input2 = 4\n",
        "output = neuron.adder(input1, input2)\n",
        "print('Output:\\t', output)"
      ],
      "metadata": {
        "colab": {
          "base_uri": "https://localhost:8080/"
        },
        "id": "fzNToR7dTEoW",
        "outputId": "05c354b9-9d85-4a6d-a6ae-9e465bf75dc6"
      },
      "execution_count": 10,
      "outputs": [
        {
          "output_type": "stream",
          "name": "stdout",
          "text": [
            "Output:\t 1.0\n"
          ]
        }
      ]
    },
    {
      "cell_type": "code",
      "source": [
        "# Using relu activation function\n",
        "class Neuron:\n",
        "  def __init__(self, weight1, weight2):\n",
        "    self.weight1 = weight1\n",
        "    self.weight2 = weight2\n",
        "\n",
        "  def adder(self, input_val1, input_val2):\n",
        "    weight = input_val1 * self.weight1 + input_val2 * self.weight2\n",
        "    output = self.relu(weight)\n",
        "    return output\n",
        "\n",
        "  def relu(self, x):\n",
        "    if x < 0:\n",
        "      return 0\n",
        "    elif x >= 0:\n",
        "      return x\n",
        "\n",
        "weight1 = 5\n",
        "weight2 = 3\n",
        "neuron = Neuron(weight1, weight2)\n",
        "input1 = 7\n",
        "input2 = 4\n",
        "output = neuron.adder(input1, input2)\n",
        "print('Output:\\t', output)"
      ],
      "metadata": {
        "colab": {
          "base_uri": "https://localhost:8080/"
        },
        "id": "sAn7FiA0TtXn",
        "outputId": "cfd3d899-00dd-440f-ef4a-3b115386d969"
      },
      "execution_count": 12,
      "outputs": [
        {
          "output_type": "stream",
          "name": "stdout",
          "text": [
            "Output:\t 47\n"
          ]
        }
      ]
    },
    {
      "cell_type": "code",
      "source": [
        "# Using relu activation function with lists as input and weight\n",
        "class Neuron:\n",
        "  def __init__(self, weights):\n",
        "    self.weights = np.array(weights)\n",
        "\n",
        "  def adder(self, inputs):\n",
        "    assert len(inputs) == len(self.weights)\n",
        "    weights = np.dot(inputs, self.weights)\n",
        "    output = self.relu(weights)\n",
        "    return output.tolist()\n",
        "\n",
        "  def relu(self, x):\n",
        "    if x < 0:\n",
        "      return 0\n",
        "    elif x >= 0:\n",
        "      return x\n",
        "\n",
        "weights = [5, 3]\n",
        "neuron = Neuron(weights)\n",
        "inputs = [7, 4]\n",
        "output = neuron.adder(inputs)\n",
        "print('Output:\\t', output)"
      ],
      "metadata": {
        "colab": {
          "base_uri": "https://localhost:8080/"
        },
        "id": "vv5zIPqjWKqm",
        "outputId": "8a893b0f-6989-43ce-f93c-134446c42360"
      },
      "execution_count": 15,
      "outputs": [
        {
          "output_type": "stream",
          "name": "stdout",
          "text": [
            "Output:\t 47\n"
          ]
        }
      ]
    },
    {
      "cell_type": "code",
      "source": [],
      "metadata": {
        "id": "RIUjdLL8YOs2"
      },
      "execution_count": null,
      "outputs": []
    }
  ]
}