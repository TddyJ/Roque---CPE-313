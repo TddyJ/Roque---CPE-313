{
  "cells": [
    {
      "cell_type": "markdown",
      "source": [
        "**Name:** Jared Miguel F. Roque <br>\n",
        "**Course & Section:** CPE 313 - CPE32S8"
      ],
      "metadata": {
        "id": "zkU2_LcZ-HEo"
      },
      "id": "zkU2_LcZ-HEo"
    },
    {
      "cell_type": "markdown",
      "id": "frozen-passport",
      "metadata": {
        "id": "frozen-passport"
      },
      "source": [
        "# Activity 1.3 : Regularization"
      ]
    },
    {
      "cell_type": "markdown",
      "id": "downtown-relay",
      "metadata": {
        "id": "downtown-relay"
      },
      "source": [
        "#### Objective(s):\n",
        "\n",
        "This activity aims to demonstrate how to apply  regularization in neural networks"
      ]
    },
    {
      "cell_type": "markdown",
      "id": "weird-journal",
      "metadata": {
        "id": "weird-journal"
      },
      "source": [
        "#### Intended Learning Outcomes (ILOs):\n",
        "* Demonstrate how to build and train neural networks with regularization\n",
        "* Demonstrate how to visualize the model with regularization\n",
        "* Evaluate the result of model with regularization\n"
      ]
    },
    {
      "cell_type": "markdown",
      "id": "returning-harvard",
      "metadata": {
        "id": "returning-harvard"
      },
      "source": [
        "#### Resources:\n",
        "* Jupyter Notebook\n",
        "* MNIST\n"
      ]
    },
    {
      "cell_type": "markdown",
      "id": "virgin-webcam",
      "metadata": {
        "id": "virgin-webcam"
      },
      "source": [
        "#### Procedures\n",
        "Load the necessary libraries"
      ]
    },
    {
      "cell_type": "code",
      "execution_count": 57,
      "id": "changing-emergency",
      "metadata": {
        "id": "changing-emergency"
      },
      "outputs": [],
      "source": [
        "from __future__ import print_function\n",
        "\n",
        "import keras\n",
        "from keras.datasets import mnist\n",
        "from keras.models import Sequential\n",
        "from keras.layers import Dense, Dropout\n",
        "from keras.optimizers import RMSprop\n",
        "\n",
        "import numpy as np\n",
        "import matplotlib.pyplot as plt\n",
        "%matplotlib inline"
      ]
    },
    {
      "cell_type": "markdown",
      "id": "central-drama",
      "metadata": {
        "id": "central-drama"
      },
      "source": [
        "Load the data, shuffled and split between train and test sets"
      ]
    },
    {
      "cell_type": "code",
      "execution_count": 58,
      "id": "egyptian-driving",
      "metadata": {
        "id": "egyptian-driving"
      },
      "outputs": [],
      "source": [
        "(x_train, y_train), (x_test, y_test) = mnist.load_data()"
      ]
    },
    {
      "cell_type": "markdown",
      "id": "creative-cricket",
      "metadata": {
        "id": "creative-cricket"
      },
      "source": [
        "Get the size of the sample train data"
      ]
    },
    {
      "cell_type": "code",
      "execution_count": 59,
      "id": "instrumental-funds",
      "metadata": {
        "id": "instrumental-funds",
        "colab": {
          "base_uri": "https://localhost:8080/"
        },
        "outputId": "eba435eb-09f8-4e8c-8f9c-4edf7e1a347c"
      },
      "outputs": [
        {
          "output_type": "execute_result",
          "data": {
            "text/plain": [
              "(28, 28)"
            ]
          },
          "metadata": {},
          "execution_count": 59
        }
      ],
      "source": [
        "x_train[0].shape"
      ]
    },
    {
      "cell_type": "markdown",
      "id": "atmospheric-carol",
      "metadata": {
        "id": "atmospheric-carol"
      },
      "source": [
        "Check the sample train data"
      ]
    },
    {
      "cell_type": "code",
      "execution_count": 60,
      "id": "mental-johnston",
      "metadata": {
        "id": "mental-johnston",
        "colab": {
          "base_uri": "https://localhost:8080/",
          "height": 69
        },
        "outputId": "6ef28c0c-ba9e-4129-d964-2a710402071e"
      },
      "outputs": [
        {
          "output_type": "execute_result",
          "data": {
            "text/plain": [
              "array([[  0,   0,   0,   0,   0,   0,   0,   0,   0,   0,   0,   0,   0,\n",
              "          0,   0,   0,   0,   0,   0,   0,   0,   0,   0,   0,   0,   0,\n",
              "          0,   0],\n",
              "       [  0,   0,   0,   0,   0,   0,   0,   0,   0,   0,   0,   0,   0,\n",
              "          0,   0,   0,   0,   0,   0,   0,   0,   0,   0,   0,   0,   0,\n",
              "          0,   0],\n",
              "       [  0,   0,   0,   0,   0,   0,   0,   0,   0,   0,   0,   0,   0,\n",
              "          0,   0,   0,   0,   0,   0,   0,   0,   0,   0,   0,   0,   0,\n",
              "          0,   0],\n",
              "       [  0,   0,   0,   0,   0,   0,   0,   0,   0,   0,   0,   0,   0,\n",
              "          0,   0,   0,   0,   0,   0,   0,   0,   0,   0,   0,   0,   0,\n",
              "          0,   0],\n",
              "       [  0,   0,   0,   0,   0,   0,   0,   0,   0,   0,   0,   0,   0,\n",
              "          0,   0,   0,   0,   0,   0,   0,   0,   0,   0,   0,   0,   0,\n",
              "          0,   0],\n",
              "       [  0,   0,   0,   0,   0,   0,   0,   0,   0,   0,   0,  87, 138,\n",
              "        170, 253, 201, 244, 212, 222, 138,  86,  22,   0,   0,   0,   0,\n",
              "          0,   0],\n",
              "       [  0,   0,   0,   0,   0,   0,   0,   0,   0,   0,  95, 253, 252,\n",
              "        252, 252, 252, 253, 252, 252, 252, 252, 245,  80,   0,   0,   0,\n",
              "          0,   0],\n",
              "       [  0,   0,   0,   0,   0,   0,   0,   0,   0,  68, 246, 205,  69,\n",
              "         69,  69,  69,  69,  69,  69,  69, 205, 253, 240,  50,   0,   0,\n",
              "          0,   0],\n",
              "       [  0,   0,   0,   0,   0,   0,   0,   0,   0, 187, 252, 218,  34,\n",
              "          0,   0,   0,   0,   0,   0,   0, 116, 253, 252,  69,   0,   0,\n",
              "          0,   0],\n",
              "       [  0,   0,   0,   0,   0,   0,   0,   0, 116, 248, 252, 253,  92,\n",
              "          0,   0,   0,   0,   0,   0,  95, 230, 253, 157,   6,   0,   0,\n",
              "          0,   0],\n",
              "       [  0,   0,   0,   0,   0,   0,   0,   0, 116, 249, 253, 189,  42,\n",
              "          0,   0,   0,   0,  36, 170, 253, 243, 158,   0,   0,   0,   0,\n",
              "          0,   0],\n",
              "       [  0,   0,   0,   0,   0,   0,   0,   0,   0, 133, 252, 245, 140,\n",
              "         34,   0,   0,  57, 219, 252, 235,  60,   0,   0,   0,   0,   0,\n",
              "          0,   0],\n",
              "       [  0,   0,   0,   0,   0,   0,   0,   0,   0,  25, 205, 253, 252,\n",
              "        234, 184, 184, 253, 240, 100,  44,   0,   0,   0,   0,   0,   0,\n",
              "          0,   0],\n",
              "       [  0,   0,   0,   0,   0,   0,   0,   0,   0,   0,  21, 161, 219,\n",
              "        252, 252, 252, 234,  37,   0,   0,   0,   0,   0,   0,   0,   0,\n",
              "          0,   0],\n",
              "       [  0,   0,   0,   0,   0,   0,   0,   0,   0,   0,   0,  11, 203,\n",
              "        252, 252, 252, 251, 135,   0,   0,   0,   0,   0,   0,   0,   0,\n",
              "          0,   0],\n",
              "       [  0,   0,   0,   0,   0,   0,   0,   0,   0,   9,  76, 255, 253,\n",
              "        205, 168, 220, 255, 253, 137,   5,   0,   0,   0,   0,   0,   0,\n",
              "          0,   0],\n",
              "       [  0,   0,   0,   0,   0,   0,   0,   0,   0, 114, 252, 249, 132,\n",
              "         25,   0,   0, 180, 252, 252,  45,   0,   0,   0,   0,   0,   0,\n",
              "          0,   0],\n",
              "       [  0,   0,   0,   0,   0,   0,   0,   0,  51, 220, 252, 199,   0,\n",
              "          0,   0,   0,  38, 186, 252, 154,   7,   0,   0,   0,   0,   0,\n",
              "          0,   0],\n",
              "       [  0,   0,   0,   0,   0,   0,   0,   0, 184, 252, 252,  21,   0,\n",
              "          0,   0,   0,   0,  67, 252, 252,  22,   0,   0,   0,   0,   0,\n",
              "          0,   0],\n",
              "       [  0,   0,   0,   0,   0,   0,   0,   0, 184, 252, 200,   0,   0,\n",
              "          0,   0,   0,   0,  47, 252, 252,  22,   0,   0,   0,   0,   0,\n",
              "          0,   0],\n",
              "       [  0,   0,   0,   0,   0,   0,   0,   0, 185, 253, 201,   0,   0,\n",
              "          0,   0,   0,   3, 118, 253, 245,  21,   0,   0,   0,   0,   0,\n",
              "          0,   0],\n",
              "       [  0,   0,   0,   0,   0,   0,   0,   0, 163, 252, 252,   0,   0,\n",
              "          0,   0,   0,  97, 252, 252,  87,   0,   0,   0,   0,   0,   0,\n",
              "          0,   0],\n",
              "       [  0,   0,   0,   0,   0,   0,   0,   0,  51, 240, 252, 123,  70,\n",
              "         70, 112, 184, 222, 252, 170,  13,   0,   0,   0,   0,   0,   0,\n",
              "          0,   0],\n",
              "       [  0,   0,   0,   0,   0,   0,   0,   0,   0, 165, 252, 253, 252,\n",
              "        252, 252, 252, 245, 139,  13,   0,   0,   0,   0,   0,   0,   0,\n",
              "          0,   0],\n",
              "       [  0,   0,   0,   0,   0,   0,   0,   0,   0,   9,  75, 253, 252,\n",
              "        221, 137, 137,  21,   0,   0,   0,   0,   0,   0,   0,   0,   0,\n",
              "          0,   0],\n",
              "       [  0,   0,   0,   0,   0,   0,   0,   0,   0,   0,   0,   0,   0,\n",
              "          0,   0,   0,   0,   0,   0,   0,   0,   0,   0,   0,   0,   0,\n",
              "          0,   0],\n",
              "       [  0,   0,   0,   0,   0,   0,   0,   0,   0,   0,   0,   0,   0,\n",
              "          0,   0,   0,   0,   0,   0,   0,   0,   0,   0,   0,   0,   0,\n",
              "          0,   0],\n",
              "       [  0,   0,   0,   0,   0,   0,   0,   0,   0,   0,   0,   0,   0,\n",
              "          0,   0,   0,   0,   0,   0,   0,   0,   0,   0,   0,   0,   0,\n",
              "          0,   0]], dtype=uint8)"
            ],
            "text/html": [
              "<style>\n",
              "      .ndarray_repr .ndarray_raw_data {\n",
              "        display: none;\n",
              "      }\n",
              "      .ndarray_repr.show_array .ndarray_raw_data {\n",
              "        display: block;\n",
              "      }\n",
              "      .ndarray_repr.show_array .ndarray_image_preview {\n",
              "        display: none;\n",
              "      }\n",
              "      </style>\n",
              "      <div id=\"id-4f11524e-c2d0-4f11-932a-a3dcd1e41d8e\" class=\"ndarray_repr\"><pre>ndarray (28, 28) <button style=\"padding: 0 2px;\">show data</button></pre><img src=\"data:image/png;base64,iVBORw0KGgoAAAANSUhEUgAAABwAAAAcCAAAAABXZoBIAAABJElEQVR4nM2RO0sDURCFz/qIRE0lK6QTUQsfGEglWKnEQgvBIo0ggj9ARFCwVXTRXyAoiAgSrMRiEQQ7Cze2FnlgZbGxCISAi2dYiyyJufeWFk51mG/mMIcB/llZv3Q2PbTqTbz33npPvjq3LiQpJFlfUTYX7t72Inmcqs29Auhqwt1YolRuyOlU/0Cb6c4XZS3y/5DzWDsM5HEcAEZyUrtQ7zlk/XQYmCmwMquFSuaFvutKdXPSENm+LJD0Rw0IQN8Lye8jE4ovh5K/KYbidOtwm8FBErgnpzSWLvIZAMYeeNajQpe0AQDz5GDU62hhrwIA+Gx1mtCyGj/oXLSCULW9IgEAG2RWP6jK/Uxmyy0zl9CjXEd/PjEwxJeEJcexDeiP6wefW3R9pZ+EHwAAAABJRU5ErkJggg==\" class=\"ndarray_image_preview\" /><pre class=\"ndarray_raw_data\">array([[  0,   0,   0,   0,   0,   0,   0,   0,   0,   0,   0,   0,   0,\n",
              "          0,   0,   0,   0,   0,   0,   0,   0,   0,   0,   0,   0,   0,\n",
              "          0,   0],\n",
              "       [  0,   0,   0,   0,   0,   0,   0,   0,   0,   0,   0,   0,   0,\n",
              "          0,   0,   0,   0,   0,   0,   0,   0,   0,   0,   0,   0,   0,\n",
              "          0,   0],\n",
              "       [  0,   0,   0,   0,   0,   0,   0,   0,   0,   0,   0,   0,   0,\n",
              "          0,   0,   0,   0,   0,   0,   0,   0,   0,   0,   0,   0,   0,\n",
              "          0,   0],\n",
              "       [  0,   0,   0,   0,   0,   0,   0,   0,   0,   0,   0,   0,   0,\n",
              "          0,   0,   0,   0,   0,   0,   0,   0,   0,   0,   0,   0,   0,\n",
              "          0,   0],\n",
              "       [  0,   0,   0,   0,   0,   0,   0,   0,   0,   0,   0,   0,   0,\n",
              "          0,   0,   0,   0,   0,   0,   0,   0,   0,   0,   0,   0,   0,\n",
              "          0,   0],\n",
              "       [  0,   0,   0,   0,   0,   0,   0,   0,   0,   0,   0,  87, 138,\n",
              "        170, 253, 201, 244, 212, 222, 138,  86,  22,   0,   0,   0,   0,\n",
              "          0,   0],\n",
              "       [  0,   0,   0,   0,   0,   0,   0,   0,   0,   0,  95, 253, 252,\n",
              "        252, 252, 252, 253, 252, 252, 252, 252, 245,  80,   0,   0,   0,\n",
              "          0,   0],\n",
              "       [  0,   0,   0,   0,   0,   0,   0,   0,   0,  68, 246, 205,  69,\n",
              "         69,  69,  69,  69,  69,  69,  69, 205, 253, 240,  50,   0,   0,\n",
              "          0,   0],\n",
              "       [  0,   0,   0,   0,   0,   0,   0,   0,   0, 187, 252, 218,  34,\n",
              "          0,   0,   0,   0,   0,   0,   0, 116, 253, 252,  69,   0,   0,\n",
              "          0,   0],\n",
              "       [  0,   0,   0,   0,   0,   0,   0,   0, 116, 248, 252, 253,  92,\n",
              "          0,   0,   0,   0,   0,   0,  95, 230, 253, 157,   6,   0,   0,\n",
              "          0,   0],\n",
              "       [  0,   0,   0,   0,   0,   0,   0,   0, 116, 249, 253, 189,  42,\n",
              "          0,   0,   0,   0,  36, 170, 253, 243, 158,   0,   0,   0,   0,\n",
              "          0,   0],\n",
              "       [  0,   0,   0,   0,   0,   0,   0,   0,   0, 133, 252, 245, 140,\n",
              "         34,   0,   0,  57, 219, 252, 235,  60,   0,   0,   0,   0,   0,\n",
              "          0,   0],\n",
              "       [  0,   0,   0,   0,   0,   0,   0,   0,   0,  25, 205, 253, 252,\n",
              "        234, 184, 184, 253, 240, 100,  44,   0,   0,   0,   0,   0,   0,\n",
              "          0,   0],\n",
              "       [  0,   0,   0,   0,   0,   0,   0,   0,   0,   0,  21, 161, 219,\n",
              "        252, 252, 252, 234,  37,   0,   0,   0,   0,   0,   0,   0,   0,\n",
              "          0,   0],\n",
              "       [  0,   0,   0,   0,   0,   0,   0,   0,   0,   0,   0,  11, 203,\n",
              "        252, 252, 252, 251, 135,   0,   0,   0,   0,   0,   0,   0,   0,\n",
              "          0,   0],\n",
              "       [  0,   0,   0,   0,   0,   0,   0,   0,   0,   9,  76, 255, 253,\n",
              "        205, 168, 220, 255, 253, 137,   5,   0,   0,   0,   0,   0,   0,\n",
              "          0,   0],\n",
              "       [  0,   0,   0,   0,   0,   0,   0,   0,   0, 114, 252, 249, 132,\n",
              "         25,   0,   0, 180, 252, 252,  45,   0,   0,   0,   0,   0,   0,\n",
              "          0,   0],\n",
              "       [  0,   0,   0,   0,   0,   0,   0,   0,  51, 220, 252, 199,   0,\n",
              "          0,   0,   0,  38, 186, 252, 154,   7,   0,   0,   0,   0,   0,\n",
              "          0,   0],\n",
              "       [  0,   0,   0,   0,   0,   0,   0,   0, 184, 252, 252,  21,   0,\n",
              "          0,   0,   0,   0,  67, 252, 252,  22,   0,   0,   0,   0,   0,\n",
              "          0,   0],\n",
              "       [  0,   0,   0,   0,   0,   0,   0,   0, 184, 252, 200,   0,   0,\n",
              "          0,   0,   0,   0,  47, 252, 252,  22,   0,   0,   0,   0,   0,\n",
              "          0,   0],\n",
              "       [  0,   0,   0,   0,   0,   0,   0,   0, 185, 253, 201,   0,   0,\n",
              "          0,   0,   0,   3, 118, 253, 245,  21,   0,   0,   0,   0,   0,\n",
              "          0,   0],\n",
              "       [  0,   0,   0,   0,   0,   0,   0,   0, 163, 252, 252,   0,   0,\n",
              "          0,   0,   0,  97, 252, 252,  87,   0,   0,   0,   0,   0,   0,\n",
              "          0,   0],\n",
              "       [  0,   0,   0,   0,   0,   0,   0,   0,  51, 240, 252, 123,  70,\n",
              "         70, 112, 184, 222, 252, 170,  13,   0,   0,   0,   0,   0,   0,\n",
              "          0,   0],\n",
              "       [  0,   0,   0,   0,   0,   0,   0,   0,   0, 165, 252, 253, 252,\n",
              "        252, 252, 252, 245, 139,  13,   0,   0,   0,   0,   0,   0,   0,\n",
              "          0,   0],\n",
              "       [  0,   0,   0,   0,   0,   0,   0,   0,   0,   9,  75, 253, 252,\n",
              "        221, 137, 137,  21,   0,   0,   0,   0,   0,   0,   0,   0,   0,\n",
              "          0,   0],\n",
              "       [  0,   0,   0,   0,   0,   0,   0,   0,   0,   0,   0,   0,   0,\n",
              "          0,   0,   0,   0,   0,   0,   0,   0,   0,   0,   0,   0,   0,\n",
              "          0,   0],\n",
              "       [  0,   0,   0,   0,   0,   0,   0,   0,   0,   0,   0,   0,   0,\n",
              "          0,   0,   0,   0,   0,   0,   0,   0,   0,   0,   0,   0,   0,\n",
              "          0,   0],\n",
              "       [  0,   0,   0,   0,   0,   0,   0,   0,   0,   0,   0,   0,   0,\n",
              "          0,   0,   0,   0,   0,   0,   0,   0,   0,   0,   0,   0,   0,\n",
              "          0,   0]], dtype=uint8)</pre></div><script>\n",
              "      (() => {\n",
              "      const titles = ['show data', 'hide data'];\n",
              "      let index = 0\n",
              "      document.querySelector('#id-4f11524e-c2d0-4f11-932a-a3dcd1e41d8e button').onclick = (e) => {\n",
              "        document.querySelector('#id-4f11524e-c2d0-4f11-932a-a3dcd1e41d8e').classList.toggle('show_array');\n",
              "        index = (++index) % 2;\n",
              "        document.querySelector('#id-4f11524e-c2d0-4f11-932a-a3dcd1e41d8e button').textContent = titles[index];\n",
              "        e.preventDefault();\n",
              "        e.stopPropagation();\n",
              "      }\n",
              "      })();\n",
              "    </script>"
            ]
          },
          "metadata": {},
          "execution_count": 60
        }
      ],
      "source": [
        "x_train[333]"
      ]
    },
    {
      "cell_type": "markdown",
      "id": "compact-disposal",
      "metadata": {
        "id": "compact-disposal"
      },
      "source": [
        "Check the corresponding label in the training set"
      ]
    },
    {
      "cell_type": "code",
      "execution_count": 61,
      "id": "cutting-gentleman",
      "metadata": {
        "id": "cutting-gentleman",
        "colab": {
          "base_uri": "https://localhost:8080/"
        },
        "outputId": "78a88e84-deab-4a3a-ceca-515819c68cd0"
      },
      "outputs": [
        {
          "output_type": "execute_result",
          "data": {
            "text/plain": [
              "8"
            ]
          },
          "metadata": {},
          "execution_count": 61
        }
      ],
      "source": [
        "\n",
        "y_train[333]"
      ]
    },
    {
      "cell_type": "markdown",
      "source": [
        "Check the actual image"
      ],
      "metadata": {
        "id": "6ufzuMlPIs54"
      },
      "id": "6ufzuMlPIs54"
    },
    {
      "cell_type": "code",
      "execution_count": 62,
      "id": "tight-motivation",
      "metadata": {
        "id": "tight-motivation",
        "colab": {
          "base_uri": "https://localhost:8080/",
          "height": 448
        },
        "outputId": "859cc3d1-d767-43be-b8df-c9f09f798b81"
      },
      "outputs": [
        {
          "output_type": "execute_result",
          "data": {
            "text/plain": [
              "<matplotlib.image.AxesImage at 0x7850ce616fe0>"
            ]
          },
          "metadata": {},
          "execution_count": 62
        },
        {
          "output_type": "display_data",
          "data": {
            "text/plain": [
              "<Figure size 640x480 with 1 Axes>"
            ],
            "image/png": "[encoded data removed]"
          },
          "metadata": {}
        }
      ],
      "source": [
        "\n",
        "plt.imshow(x_train[333], cmap='Greys_r')"
      ]
    },
    {
      "cell_type": "markdown",
      "id": "brutal-young",
      "metadata": {
        "id": "brutal-young"
      },
      "source": [
        "Check the shape of the x_train and x_test"
      ]
    },
    {
      "cell_type": "code",
      "execution_count": 63,
      "id": "residential-rouge",
      "metadata": {
        "id": "residential-rouge",
        "colab": {
          "base_uri": "https://localhost:8080/"
        },
        "outputId": "7f974dfe-8699-4bd7-cd5f-36eceb091e82"
      },
      "outputs": [
        {
          "output_type": "stream",
          "name": "stdout",
          "text": [
            "(60000, 28, 28) train samples\n",
            "(10000, 28, 28) test samples\n"
          ]
        }
      ],
      "source": [
        "\n",
        "print(x_train.shape, 'train samples')\n",
        "print(x_test.shape, 'test samples')"
      ]
    },
    {
      "cell_type": "markdown",
      "id": "secret-parameter",
      "metadata": {
        "id": "secret-parameter"
      },
      "source": [
        "* Convert the x_train and x_test\n",
        "* Cast the numbers to floats\n",
        "* Normalize the inputs"
      ]
    },
    {
      "cell_type": "code",
      "execution_count": 64,
      "id": "intense-daisy",
      "metadata": {
        "id": "intense-daisy"
      },
      "outputs": [],
      "source": [
        "\n",
        "x_train = x_train.reshape(len(x_train), 28*28)\n",
        "x_test = x_test.reshape(len(x_test), 28*28)\n",
        "\n",
        "\n",
        "x_train = x_train.astype('float32')\n",
        "x_test = x_test.astype('float32')\n",
        "\n",
        "\n",
        "x_train /= 255\n",
        "x_test /= 255\n"
      ]
    },
    {
      "cell_type": "markdown",
      "id": "celtic-output",
      "metadata": {
        "id": "celtic-output"
      },
      "source": [
        "Convert class vectors to binary class matrices"
      ]
    },
    {
      "cell_type": "code",
      "execution_count": 65,
      "id": "confidential-incentive",
      "metadata": {
        "id": "confidential-incentive",
        "colab": {
          "base_uri": "https://localhost:8080/"
        },
        "outputId": "cd1c3320-f7f7-4ef7-de14-aea8f11be7a5"
      },
      "outputs": [
        {
          "output_type": "execute_result",
          "data": {
            "text/plain": [
              "array([0., 0., 0., 0., 0., 0., 0., 0., 1., 0.], dtype=float32)"
            ]
          },
          "metadata": {},
          "execution_count": 65
        }
      ],
      "source": [
        "\n",
        "num_classes = 10\n",
        "y_train = keras.utils.to_categorical(y_train, num_classes)\n",
        "y_test = keras.utils.to_categorical(y_test, num_classes)\n",
        "\n",
        "y_train[333]  # now the digit k is represented by a 1 in the kth entry (0-indexed) of the length 10 vector"
      ]
    },
    {
      "cell_type": "markdown",
      "id": "lightweight-walter",
      "metadata": {
        "id": "lightweight-walter"
      },
      "source": [
        "* Build the model with two hidden layers of size 512.\n",
        "* Use dropout of 0.2\n",
        "* Check the model summary"
      ]
    },
    {
      "cell_type": "code",
      "execution_count": 66,
      "id": "level-blair",
      "metadata": {
        "id": "level-blair"
      },
      "outputs": [],
      "source": [
        "\n",
        "model = Sequential()\n",
        "model.add(Dense(64, activation='relu', input_shape=(784,)))\n",
        "model.add(Dropout(0.2))\n",
        "model.add(Dense(64, activation='relu'))\n",
        "model.add(Dropout(0.2))\n",
        "model.add(Dense(10, activation='softmax'))"
      ]
    },
    {
      "cell_type": "code",
      "execution_count": 67,
      "id": "filled-class",
      "metadata": {
        "id": "filled-class",
        "colab": {
          "base_uri": "https://localhost:8080/"
        },
        "outputId": "2b0acbed-2d75-4fdf-c33c-413217a60414"
      },
      "outputs": [
        {
          "output_type": "stream",
          "name": "stdout",
          "text": [
            "Model: \"sequential_6\"\n",
            "_________________________________________________________________\n",
            " Layer (type)                Output Shape              Param #   \n",
            "=================================================================\n",
            " dense_18 (Dense)            (None, 64)                50240     \n",
            "                                                                 \n",
            " dropout_12 (Dropout)        (None, 64)                0         \n",
            "                                                                 \n",
            " dense_19 (Dense)            (None, 64)                4160      \n",
            "                                                                 \n",
            " dropout_13 (Dropout)        (None, 64)                0         \n",
            "                                                                 \n",
            " dense_20 (Dense)            (None, 10)                650       \n",
            "                                                                 \n",
            "=================================================================\n",
            "Total params: 55050 (215.04 KB)\n",
            "Trainable params: 55050 (215.04 KB)\n",
            "Non-trainable params: 0 (0.00 Byte)\n",
            "_________________________________________________________________\n"
          ]
        }
      ],
      "source": [
        "model.summary()"
      ]
    },
    {
      "cell_type": "markdown",
      "id": "thrown-entry",
      "metadata": {
        "id": "thrown-entry"
      },
      "source": [
        "Compile the model using learning rate of 0.001 and optimizer of RMSprop"
      ]
    },
    {
      "cell_type": "code",
      "execution_count": 68,
      "id": "oriental-family",
      "metadata": {
        "id": "oriental-family",
        "colab": {
          "base_uri": "https://localhost:8080/"
        },
        "outputId": "5cef90fc-6967-41c0-98bb-1944e00a6c2e"
      },
      "outputs": [
        {
          "output_type": "stream",
          "name": "stderr",
          "text": [
            "WARNING:absl:`lr` is deprecated in Keras optimizer, please use `learning_rate` or use the legacy optimizer, e.g.,tf.keras.optimizers.legacy.RMSprop.\n"
          ]
        },
        {
          "output_type": "stream",
          "name": "stdout",
          "text": [
            "Epoch 1/30\n",
            "469/469 [==============================] - 3s 5ms/step - loss: 0.5151 - accuracy: 0.8453 - val_loss: 0.2108 - val_accuracy: 0.9380\n",
            "Epoch 2/30\n",
            "469/469 [==============================] - 2s 4ms/step - loss: 0.2517 - accuracy: 0.9262 - val_loss: 0.1540 - val_accuracy: 0.9553\n",
            "Epoch 3/30\n",
            "469/469 [==============================] - 2s 5ms/step - loss: 0.2009 - accuracy: 0.9396 - val_loss: 0.1290 - val_accuracy: 0.9614\n",
            "Epoch 4/30\n",
            "469/469 [==============================] - 2s 5ms/step - loss: 0.1727 - accuracy: 0.9491 - val_loss: 0.1205 - val_accuracy: 0.9648\n",
            "Epoch 5/30\n",
            "469/469 [==============================] - 2s 5ms/step - loss: 0.1555 - accuracy: 0.9528 - val_loss: 0.1073 - val_accuracy: 0.9674\n",
            "Epoch 6/30\n",
            "469/469 [==============================] - 2s 4ms/step - loss: 0.1416 - accuracy: 0.9573 - val_loss: 0.1016 - val_accuracy: 0.9699\n",
            "Epoch 7/30\n",
            "469/469 [==============================] - 2s 5ms/step - loss: 0.1323 - accuracy: 0.9599 - val_loss: 0.0985 - val_accuracy: 0.9716\n",
            "Epoch 8/30\n",
            "469/469 [==============================] - 2s 5ms/step - loss: 0.1251 - accuracy: 0.9630 - val_loss: 0.0923 - val_accuracy: 0.9722\n",
            "Epoch 9/30\n",
            "469/469 [==============================] - 2s 4ms/step - loss: 0.1209 - accuracy: 0.9641 - val_loss: 0.0983 - val_accuracy: 0.9736\n",
            "Epoch 10/30\n",
            "469/469 [==============================] - 3s 6ms/step - loss: 0.1120 - accuracy: 0.9653 - val_loss: 0.1019 - val_accuracy: 0.9722\n",
            "Epoch 11/30\n",
            "469/469 [==============================] - 2s 4ms/step - loss: 0.1121 - accuracy: 0.9663 - val_loss: 0.0973 - val_accuracy: 0.9732\n",
            "Epoch 12/30\n",
            "469/469 [==============================] - 2s 4ms/step - loss: 0.1057 - accuracy: 0.9681 - val_loss: 0.1000 - val_accuracy: 0.9715\n",
            "Epoch 13/30\n",
            "469/469 [==============================] - 2s 5ms/step - loss: 0.1024 - accuracy: 0.9697 - val_loss: 0.0930 - val_accuracy: 0.9745\n",
            "Epoch 14/30\n",
            "469/469 [==============================] - 2s 4ms/step - loss: 0.1014 - accuracy: 0.9692 - val_loss: 0.0881 - val_accuracy: 0.9755\n",
            "Epoch 15/30\n",
            "469/469 [==============================] - 2s 5ms/step - loss: 0.0999 - accuracy: 0.9694 - val_loss: 0.0953 - val_accuracy: 0.9749\n",
            "Epoch 16/30\n",
            "469/469 [==============================] - 3s 6ms/step - loss: 0.0963 - accuracy: 0.9703 - val_loss: 0.0952 - val_accuracy: 0.9749\n",
            "Epoch 17/30\n",
            "469/469 [==============================] - 2s 4ms/step - loss: 0.0932 - accuracy: 0.9719 - val_loss: 0.0982 - val_accuracy: 0.9748\n",
            "Epoch 18/30\n",
            "469/469 [==============================] - 2s 4ms/step - loss: 0.0946 - accuracy: 0.9717 - val_loss: 0.0987 - val_accuracy: 0.9731\n",
            "Epoch 19/30\n",
            "469/469 [==============================] - 2s 4ms/step - loss: 0.0880 - accuracy: 0.9737 - val_loss: 0.0971 - val_accuracy: 0.9754\n",
            "Epoch 20/30\n",
            "469/469 [==============================] - 2s 4ms/step - loss: 0.0878 - accuracy: 0.9734 - val_loss: 0.0935 - val_accuracy: 0.9764\n",
            "Epoch 21/30\n",
            "469/469 [==============================] - 2s 5ms/step - loss: 0.0868 - accuracy: 0.9739 - val_loss: 0.1057 - val_accuracy: 0.9728\n",
            "Epoch 22/30\n",
            "469/469 [==============================] - 2s 5ms/step - loss: 0.0834 - accuracy: 0.9742 - val_loss: 0.1061 - val_accuracy: 0.9734\n",
            "Epoch 23/30\n",
            "469/469 [==============================] - 2s 5ms/step - loss: 0.0863 - accuracy: 0.9740 - val_loss: 0.0955 - val_accuracy: 0.9768\n",
            "Epoch 24/30\n",
            "469/469 [==============================] - 2s 5ms/step - loss: 0.0830 - accuracy: 0.9747 - val_loss: 0.0994 - val_accuracy: 0.9759\n",
            "Epoch 25/30\n",
            "469/469 [==============================] - 2s 4ms/step - loss: 0.0813 - accuracy: 0.9753 - val_loss: 0.0977 - val_accuracy: 0.9766\n",
            "Epoch 26/30\n",
            "469/469 [==============================] - 2s 4ms/step - loss: 0.0791 - accuracy: 0.9764 - val_loss: 0.1073 - val_accuracy: 0.9724\n",
            "Epoch 27/30\n",
            "469/469 [==============================] - 3s 6ms/step - loss: 0.0810 - accuracy: 0.9755 - val_loss: 0.1098 - val_accuracy: 0.9750\n",
            "Epoch 28/30\n",
            "469/469 [==============================] - 3s 6ms/step - loss: 0.0791 - accuracy: 0.9758 - val_loss: 0.1084 - val_accuracy: 0.9745\n",
            "Epoch 29/30\n",
            "469/469 [==============================] - 2s 5ms/step - loss: 0.0806 - accuracy: 0.9758 - val_loss: 0.1064 - val_accuracy: 0.9748\n",
            "Epoch 30/30\n",
            "469/469 [==============================] - 2s 5ms/step - loss: 0.0778 - accuracy: 0.9762 - val_loss: 0.0991 - val_accuracy: 0.9758\n"
          ]
        }
      ],
      "source": [
        "learning_rate = .001\n",
        "model.compile(loss='categorical_crossentropy',\n",
        "              optimizer=RMSprop(lr=learning_rate),\n",
        "              metrics=['accuracy'])\n",
        "batch_size = 128  # mini-batch with 128 examples\n",
        "epochs = 30\n",
        "history = model.fit(\n",
        "    x_train, y_train,\n",
        "    batch_size=batch_size,\n",
        "    epochs=epochs,\n",
        "    verbose=1,\n",
        "    validation_data=(x_test, y_test))"
      ]
    },
    {
      "cell_type": "markdown",
      "id": "forty-trout",
      "metadata": {
        "id": "forty-trout"
      },
      "source": [
        "Use Keras evaluate function to evaluate performance on the test set"
      ]
    },
    {
      "cell_type": "code",
      "execution_count": 69,
      "id": "random-ballet",
      "metadata": {
        "id": "random-ballet",
        "colab": {
          "base_uri": "https://localhost:8080/"
        },
        "outputId": "89398476-5bb7-4135-9d54-316b25fbfcba"
      },
      "outputs": [
        {
          "output_type": "stream",
          "name": "stdout",
          "text": [
            "Test loss: 0.09911071509122849\n",
            "Test accuracy: 0.9757999777793884\n"
          ]
        }
      ],
      "source": [
        "\n",
        "score = model.evaluate(x_test, y_test, verbose=0)\n",
        "print('Test loss:', score[0])\n",
        "print('Test accuracy:', score[1])"
      ]
    },
    {
      "cell_type": "markdown",
      "id": "fatal-tournament",
      "metadata": {
        "id": "fatal-tournament"
      },
      "source": [
        "Interpret the result"
      ]
    },
    {
      "cell_type": "markdown",
      "source": [
        "- Based on the results of the test loss and test accuracy, the result of the test loss indicates that the model's predictions are close to the actual labels in the test dataset. This is because lower test loss values typically means better performance, so this result indicates good predictive capability. For the test accuracy result of approximately 97%, it means that the model correctly classified approximately 97% of the images in the test dataset. Indicating high accuracy rate and that the model performed very well."
      ],
      "metadata": {
        "id": "s7IQsG0Xay8X"
      },
      "id": "s7IQsG0Xay8X"
    },
    {
      "cell_type": "code",
      "execution_count": 70,
      "id": "imported-impression",
      "metadata": {
        "id": "imported-impression",
        "colab": {
          "base_uri": "https://localhost:8080/",
          "height": 545
        },
        "outputId": "8518ccf5-e17d-45de-f2ef-83bf8a1bc778"
      },
      "outputs": [
        {
          "output_type": "display_data",
          "data": {
            "text/plain": [
              "<Figure size 1200x600 with 2 Axes>"
            ],
            "image/png": "[encoded data removed]"
          },
          "metadata": {}
        }
      ],
      "source": [
        "def plot_loss_accuracy(history):\n",
        "    fig = plt.figure(figsize=(12, 6))\n",
        "    ax = fig.add_subplot(1, 2, 1)\n",
        "    ax.plot(history.history[\"loss\"],'r-x', label=\"Train Loss\")\n",
        "    ax.plot(history.history[\"val_loss\"],'b-x', label=\"Validation Loss\")\n",
        "    ax.legend()\n",
        "    ax.set_title('cross_entropy loss')\n",
        "    ax.grid(True)\n",
        "\n",
        "\n",
        "    ax = fig.add_subplot(1, 2, 2)\n",
        "    ax.plot(history.history[\"accuracy\"],'r-x', label=\"Train Accuracy\")\n",
        "    ax.plot(history.history[\"val_accuracy\"],'b-x', label=\"Validation Accuracy\")\n",
        "    ax.legend()\n",
        "    ax.set_title('accuracy')\n",
        "    ax.grid(True)\n",
        "\n",
        "\n",
        "plot_loss_accuracy(history)"
      ]
    },
    {
      "cell_type": "markdown",
      "id": "acoustic-recipient",
      "metadata": {
        "id": "acoustic-recipient"
      },
      "source": [
        "Interpret the result"
      ]
    },
    {
      "cell_type": "markdown",
      "source": [
        "As both train loss and validation loss decreases and they are close to each other, it typically indicates good generalization. if the rain accuracy and validaion accuracy increases and they are close to each other, it typically indicates that the model is learning well."
      ],
      "metadata": {
        "id": "JoABBNlha_QA"
      },
      "id": "JoABBNlha_QA"
    },
    {
      "cell_type": "markdown",
      "id": "three-terrorist",
      "metadata": {
        "id": "three-terrorist"
      },
      "source": [
        "#### Supplementary Activity\n",
        "\n",
        "* Use the Keras \"Sequential\" functionality to build a new model (model_1) with the following specifications:\n",
        "\n",
        "1. Two hidden layers.\n",
        "2. First hidden layer of size 400 and second of size 300\n",
        "3. Dropout of .4 at each layer\n",
        "4. How many parameters does your model have?  How does it compare with the previous model?\n",
        "5. Train this model for 20 epochs with RMSProp at a learning rate of .001 and a batch size of 128\n",
        "6. Use at least two  regularization techniques and apply it to the new model (model_2)\n",
        "7. Train this model for your preferred epochs , learning rate, batch size and optimizer\n",
        "8. Compare the accuracy and loss (training and validation) of model_1 and model_2"
      ]
    },
    {
      "cell_type": "code",
      "execution_count": 71,
      "id": "responsible-preserve",
      "metadata": {
        "id": "responsible-preserve"
      },
      "outputs": [],
      "source": [
        "import keras\n",
        "from keras.models import Sequential\n",
        "from keras.layers import Dense, Dropout\n",
        "from keras.optimizers import RMSprop\n",
        "from keras import regularizers"
      ]
    },
    {
      "cell_type": "code",
      "source": [
        "model_1 = Sequential()\n",
        "model_1.add(Dense(400, activation='relu', input_shape=(784,)))  # First hidden layer with 400 units\n",
        "model_1.add(Dropout(0.4))  # Dropout of 0.4\n",
        "model_1.add(Dense(300, activation='relu'))  # Second hidden layer with 300 units\n",
        "model_1.add(Dropout(0.4))  # Dropout of 0.4\n",
        "model_1.add(Dense(10, activation='softmax'))  # Output layer with softmax activation"
      ],
      "metadata": {
        "id": "OKQSlVhphLY4"
      },
      "id": "OKQSlVhphLY4",
      "execution_count": 72,
      "outputs": []
    },
    {
      "cell_type": "code",
      "source": [
        "# Number of parameters of model_1\n",
        "model_1.summary()"
      ],
      "metadata": {
        "colab": {
          "base_uri": "https://localhost:8080/"
        },
        "id": "TQ_TPBgbhLSq",
        "outputId": "771b8851-d00b-4932-f844-60bef252784b"
      },
      "id": "TQ_TPBgbhLSq",
      "execution_count": 73,
      "outputs": [
        {
          "output_type": "stream",
          "name": "stdout",
          "text": [
            "Model: \"sequential_7\"\n",
            "_________________________________________________________________\n",
            " Layer (type)                Output Shape              Param #   \n",
            "=================================================================\n",
            " dense_21 (Dense)            (None, 400)               314000    \n",
            "                                                                 \n",
            " dropout_14 (Dropout)        (None, 400)               0         \n",
            "                                                                 \n",
            " dense_22 (Dense)            (None, 300)               120300    \n",
            "                                                                 \n",
            " dropout_15 (Dropout)        (None, 300)               0         \n",
            "                                                                 \n",
            " dense_23 (Dense)            (None, 10)                3010      \n",
            "                                                                 \n",
            "=================================================================\n",
            "Total params: 437310 (1.67 MB)\n",
            "Trainable params: 437310 (1.67 MB)\n",
            "Non-trainable params: 0 (0.00 Byte)\n",
            "_________________________________________________________________\n"
          ]
        }
      ]
    },
    {
      "cell_type": "code",
      "source": [
        "# Compile model_1\n",
        "learning_rate = 0.001\n",
        "model_1.compile(loss='categorical_crossentropy',\n",
        "                optimizer=RMSprop(lr=learning_rate),\n",
        "                metrics=['accuracy'])"
      ],
      "metadata": {
        "colab": {
          "base_uri": "https://localhost:8080/"
        },
        "id": "jQm6Y0wShLQ0",
        "outputId": "9828891f-f36b-48dc-f44c-1f7894fb7298"
      },
      "id": "jQm6Y0wShLQ0",
      "execution_count": 74,
      "outputs": [
        {
          "output_type": "stream",
          "name": "stderr",
          "text": [
            "WARNING:absl:`lr` is deprecated in Keras optimizer, please use `learning_rate` or use the legacy optimizer, e.g.,tf.keras.optimizers.legacy.RMSprop.\n"
          ]
        }
      ]
    },
    {
      "cell_type": "code",
      "source": [
        "# Train model_1\n",
        "batch_size = 128\n",
        "epochs = 20\n",
        "history_1 = model_1.fit(x_train, y_train,\n",
        "                        batch_size=batch_size,\n",
        "                        epochs=epochs,\n",
        "                        verbose=1,\n",
        "                        validation_data=(x_test, y_test))"
      ],
      "metadata": {
        "colab": {
          "base_uri": "https://localhost:8080/"
        },
        "id": "Idta33WZhLO5",
        "outputId": "5471dbb8-abcb-4974-ee46-890dc4844bd0"
      },
      "id": "Idta33WZhLO5",
      "execution_count": 75,
      "outputs": [
        {
          "output_type": "stream",
          "name": "stdout",
          "text": [
            "Epoch 1/20\n",
            "469/469 [==============================] - 8s 15ms/step - loss: 0.3344 - accuracy: 0.8985 - val_loss: 0.1273 - val_accuracy: 0.9618\n",
            "Epoch 2/20\n",
            "469/469 [==============================] - 6s 13ms/step - loss: 0.1536 - accuracy: 0.9549 - val_loss: 0.0957 - val_accuracy: 0.9734\n",
            "Epoch 3/20\n",
            "469/469 [==============================] - 7s 15ms/step - loss: 0.1179 - accuracy: 0.9641 - val_loss: 0.0816 - val_accuracy: 0.9759\n",
            "Epoch 4/20\n",
            "469/469 [==============================] - 6s 13ms/step - loss: 0.1003 - accuracy: 0.9692 - val_loss: 0.0825 - val_accuracy: 0.9761\n",
            "Epoch 5/20\n",
            "469/469 [==============================] - 7s 15ms/step - loss: 0.0867 - accuracy: 0.9738 - val_loss: 0.0806 - val_accuracy: 0.9774\n",
            "Epoch 6/20\n",
            "469/469 [==============================] - 6s 13ms/step - loss: 0.0785 - accuracy: 0.9768 - val_loss: 0.0658 - val_accuracy: 0.9812\n",
            "Epoch 7/20\n",
            "469/469 [==============================] - 7s 15ms/step - loss: 0.0743 - accuracy: 0.9781 - val_loss: 0.0698 - val_accuracy: 0.9790\n",
            "Epoch 8/20\n",
            "469/469 [==============================] - 6s 13ms/step - loss: 0.0657 - accuracy: 0.9810 - val_loss: 0.0639 - val_accuracy: 0.9829\n",
            "Epoch 9/20\n",
            "469/469 [==============================] - 7s 14ms/step - loss: 0.0633 - accuracy: 0.9811 - val_loss: 0.0640 - val_accuracy: 0.9829\n",
            "Epoch 10/20\n",
            "469/469 [==============================] - 6s 13ms/step - loss: 0.0587 - accuracy: 0.9822 - val_loss: 0.0662 - val_accuracy: 0.9828\n",
            "Epoch 11/20\n",
            "469/469 [==============================] - 7s 14ms/step - loss: 0.0555 - accuracy: 0.9837 - val_loss: 0.0739 - val_accuracy: 0.9814\n",
            "Epoch 12/20\n",
            "469/469 [==============================] - 6s 14ms/step - loss: 0.0528 - accuracy: 0.9843 - val_loss: 0.0671 - val_accuracy: 0.9828\n",
            "Epoch 13/20\n",
            "469/469 [==============================] - 6s 14ms/step - loss: 0.0508 - accuracy: 0.9847 - val_loss: 0.0701 - val_accuracy: 0.9834\n",
            "Epoch 14/20\n",
            "469/469 [==============================] - 6s 14ms/step - loss: 0.0464 - accuracy: 0.9864 - val_loss: 0.0773 - val_accuracy: 0.9826\n",
            "Epoch 15/20\n",
            "469/469 [==============================] - 6s 14ms/step - loss: 0.0440 - accuracy: 0.9875 - val_loss: 0.0704 - val_accuracy: 0.9832\n",
            "Epoch 16/20\n",
            "469/469 [==============================] - 7s 14ms/step - loss: 0.0417 - accuracy: 0.9875 - val_loss: 0.0756 - val_accuracy: 0.9830\n",
            "Epoch 17/20\n",
            "469/469 [==============================] - 6s 13ms/step - loss: 0.0422 - accuracy: 0.9873 - val_loss: 0.0675 - val_accuracy: 0.9835\n",
            "Epoch 18/20\n",
            "469/469 [==============================] - 7s 14ms/step - loss: 0.0392 - accuracy: 0.9881 - val_loss: 0.0750 - val_accuracy: 0.9826\n",
            "Epoch 19/20\n",
            "469/469 [==============================] - 6s 13ms/step - loss: 0.0410 - accuracy: 0.9878 - val_loss: 0.0718 - val_accuracy: 0.9839\n",
            "Epoch 20/20\n",
            "469/469 [==============================] - 7s 14ms/step - loss: 0.0385 - accuracy: 0.9881 - val_loss: 0.0705 - val_accuracy: 0.9833\n"
          ]
        }
      ]
    },
    {
      "cell_type": "code",
      "source": [
        "model_2 = Sequential()\n",
        "model_2.add(Dense(400, activation='relu', input_shape=(784,), kernel_regularizer=regularizers.l2(0.01)))  # First hidden layer with 400 units and L2 regularization\n",
        "model_2.add(Dropout(0.4))  # Dropout of 0.4\n",
        "model_2.add(Dense(300, activation='relu', kernel_regularizer=regularizers.l2(0.01)))  # Second hidden layer with 300 units and L2 regularization\n",
        "model_2.add(Dropout(0.4))  # Dropout of 0.4\n",
        "model_2.add(Dense(10, activation='softmax'))  # Output layer with softmax activation"
      ],
      "metadata": {
        "id": "dg85oiKWhKxO"
      },
      "id": "dg85oiKWhKxO",
      "execution_count": 76,
      "outputs": []
    },
    {
      "cell_type": "code",
      "source": [
        "# Number of parameters of model_2\n",
        "model_2.summary()"
      ],
      "metadata": {
        "colab": {
          "base_uri": "https://localhost:8080/"
        },
        "id": "61wNEYgxhOVT",
        "outputId": "6de367c4-720b-4f0f-bc9f-91ba91228e30"
      },
      "id": "61wNEYgxhOVT",
      "execution_count": 77,
      "outputs": [
        {
          "output_type": "stream",
          "name": "stdout",
          "text": [
            "Model: \"sequential_8\"\n",
            "_________________________________________________________________\n",
            " Layer (type)                Output Shape              Param #   \n",
            "=================================================================\n",
            " dense_24 (Dense)            (None, 400)               314000    \n",
            "                                                                 \n",
            " dropout_16 (Dropout)        (None, 400)               0         \n",
            "                                                                 \n",
            " dense_25 (Dense)            (None, 300)               120300    \n",
            "                                                                 \n",
            " dropout_17 (Dropout)        (None, 300)               0         \n",
            "                                                                 \n",
            " dense_26 (Dense)            (None, 10)                3010      \n",
            "                                                                 \n",
            "=================================================================\n",
            "Total params: 437310 (1.67 MB)\n",
            "Trainable params: 437310 (1.67 MB)\n",
            "Non-trainable params: 0 (0.00 Byte)\n",
            "_________________________________________________________________\n"
          ]
        }
      ]
    },
    {
      "cell_type": "code",
      "source": [
        "# Compile model_2\n",
        "model_2.compile(loss='categorical_crossentropy',\n",
        "                optimizer=RMSprop(lr=learning_rate),  # Preferred optimizer\n",
        "                metrics=['accuracy'])"
      ],
      "metadata": {
        "colab": {
          "base_uri": "https://localhost:8080/"
        },
        "id": "Rb4vEGFehOTS",
        "outputId": "8e8971fd-18a1-4912-efa1-2ac4dc02e912"
      },
      "id": "Rb4vEGFehOTS",
      "execution_count": 79,
      "outputs": [
        {
          "output_type": "stream",
          "name": "stderr",
          "text": [
            "WARNING:absl:`lr` is deprecated in Keras optimizer, please use `learning_rate` or use the legacy optimizer, e.g.,tf.keras.optimizers.legacy.RMSprop.\n"
          ]
        }
      ]
    },
    {
      "cell_type": "code",
      "source": [
        "# Train model_2\n",
        "pref_epochs = 20\n",
        "pref_learning_rate = 0.01\n",
        "pref_batch_size = 128\n",
        "history_2 = model_2.fit(x_train, y_train,\n",
        "                        batch_size=pref_batch_size,\n",
        "                        epochs=pref_epochs,\n",
        "                        verbose=1,\n",
        "                        validation_data=(x_test, y_test))"
      ],
      "metadata": {
        "colab": {
          "base_uri": "https://localhost:8080/"
        },
        "id": "2wqbw-X_hORd",
        "outputId": "0e7ef950-36f0-4f72-e7da-0743a6da21d2"
      },
      "id": "2wqbw-X_hORd",
      "execution_count": 80,
      "outputs": [
        {
          "output_type": "stream",
          "name": "stdout",
          "text": [
            "Epoch 1/20\n",
            "469/469 [==============================] - 8s 16ms/step - loss: 1.5341 - accuracy: 0.8558 - val_loss: 0.5781 - val_accuracy: 0.9170\n",
            "Epoch 2/20\n",
            "469/469 [==============================] - 6s 13ms/step - loss: 0.6198 - accuracy: 0.8979 - val_loss: 0.5098 - val_accuracy: 0.9271\n",
            "Epoch 3/20\n",
            "469/469 [==============================] - 7s 15ms/step - loss: 0.5542 - accuracy: 0.9092 - val_loss: 0.4696 - val_accuracy: 0.9363\n",
            "Epoch 4/20\n",
            "469/469 [==============================] - 6s 13ms/step - loss: 0.5178 - accuracy: 0.9152 - val_loss: 0.4321 - val_accuracy: 0.9411\n",
            "Epoch 5/20\n",
            "469/469 [==============================] - 7s 15ms/step - loss: 0.4962 - accuracy: 0.9183 - val_loss: 0.4086 - val_accuracy: 0.9456\n",
            "Epoch 6/20\n",
            "469/469 [==============================] - 6s 14ms/step - loss: 0.4780 - accuracy: 0.9222 - val_loss: 0.4065 - val_accuracy: 0.9412\n",
            "Epoch 7/20\n",
            "469/469 [==============================] - 7s 16ms/step - loss: 0.4685 - accuracy: 0.9229 - val_loss: 0.3862 - val_accuracy: 0.9465\n",
            "Epoch 8/20\n",
            "469/469 [==============================] - 6s 13ms/step - loss: 0.4595 - accuracy: 0.9237 - val_loss: 0.3588 - val_accuracy: 0.9533\n",
            "Epoch 9/20\n",
            "469/469 [==============================] - 7s 15ms/step - loss: 0.4550 - accuracy: 0.9244 - val_loss: 0.3585 - val_accuracy: 0.9555\n",
            "Epoch 10/20\n",
            "469/469 [==============================] - 6s 13ms/step - loss: 0.4469 - accuracy: 0.9244 - val_loss: 0.3740 - val_accuracy: 0.9476\n",
            "Epoch 11/20\n",
            "469/469 [==============================] - 7s 16ms/step - loss: 0.4412 - accuracy: 0.9265 - val_loss: 0.3535 - val_accuracy: 0.9524\n",
            "Epoch 12/20\n",
            "469/469 [==============================] - 6s 13ms/step - loss: 0.4371 - accuracy: 0.9255 - val_loss: 0.3540 - val_accuracy: 0.9507\n",
            "Epoch 13/20\n",
            "469/469 [==============================] - 7s 16ms/step - loss: 0.4324 - accuracy: 0.9274 - val_loss: 0.3756 - val_accuracy: 0.9423\n",
            "Epoch 14/20\n",
            "469/469 [==============================] - 6s 13ms/step - loss: 0.4303 - accuracy: 0.9275 - val_loss: 0.3975 - val_accuracy: 0.9359\n",
            "Epoch 15/20\n",
            "469/469 [==============================] - 7s 15ms/step - loss: 0.4276 - accuracy: 0.9277 - val_loss: 0.3706 - val_accuracy: 0.9444\n",
            "Epoch 16/20\n",
            "469/469 [==============================] - 6s 13ms/step - loss: 0.4239 - accuracy: 0.9280 - val_loss: 0.3683 - val_accuracy: 0.9428\n",
            "Epoch 17/20\n",
            "469/469 [==============================] - 7s 15ms/step - loss: 0.4235 - accuracy: 0.9286 - val_loss: 0.3497 - val_accuracy: 0.9522\n",
            "Epoch 18/20\n",
            "469/469 [==============================] - 7s 14ms/step - loss: 0.4226 - accuracy: 0.9282 - val_loss: 0.3959 - val_accuracy: 0.9347\n",
            "Epoch 19/20\n",
            "469/469 [==============================] - 6s 14ms/step - loss: 0.4207 - accuracy: 0.9285 - val_loss: 0.3180 - val_accuracy: 0.9607\n",
            "Epoch 20/20\n",
            "469/469 [==============================] - 7s 15ms/step - loss: 0.4181 - accuracy: 0.9288 - val_loss: 0.3649 - val_accuracy: 0.9422\n"
          ]
        }
      ]
    },
    {
      "cell_type": "code",
      "source": [
        "# Accuracy and loss of model_1 and model_2\n",
        "print(\"Model 1 - RMSprop optimizer:\")\n",
        "print(\"Training Loss:\", history_1.history['loss'][-1])\n",
        "print(\"Validation Loss:\", history_1.history['val_loss'][-1])\n",
        "print(\"Training Accuracy:\", history_1.history['accuracy'][-1])\n",
        "print(\"Validation Accuracy:\", history_1.history['val_accuracy'][-1])\n",
        "\n",
        "print(\"\\nModel 2 - RMSprop optimizer with L2 regularization:\")\n",
        "print(\"Training Loss:\", history_2.history['loss'][-1])\n",
        "print(\"Validation Loss:\", history_2.history['val_loss'][-1])\n",
        "print(\"Training Accuracy:\", history_2.history['accuracy'][-1])\n",
        "print(\"Validation Accuracy:\", history_2.history['val_accuracy'][-1])"
      ],
      "metadata": {
        "colab": {
          "base_uri": "https://localhost:8080/"
        },
        "id": "uBj158LmhOPq",
        "outputId": "109744bd-c65c-4e97-da0f-31fc89fa5b4b"
      },
      "id": "uBj158LmhOPq",
      "execution_count": 81,
      "outputs": [
        {
          "output_type": "stream",
          "name": "stdout",
          "text": [
            "Model 1 - RMSprop optimizer:\n",
            "Training Loss: 0.03852077201008797\n",
            "Validation Loss: 0.0705329105257988\n",
            "Training Accuracy: 0.9881333112716675\n",
            "Validation Accuracy: 0.983299970626831\n",
            "\n",
            "Model 2 - RMSprop optimizer with L2 regularization:\n",
            "Training Loss: 0.4180791676044464\n",
            "Validation Loss: 0.36489635705947876\n",
            "Training Accuracy: 0.928766667842865\n",
            "Validation Accuracy: 0.9422000050544739\n"
          ]
        }
      ]
    },
    {
      "cell_type": "markdown",
      "source": [
        "For Model 1:\n",
        "- It achieved very low training loss of 0.0385, indicating that it fits the training data.\n",
        "- The validation loss is slightly higher than the training loss with 0.0705, which is still relatively low, indicating that the model generalizes the unseen data pretty well.\n",
        "- The training accuracy is very high at 98.81%, indicating that the model accurately predicted the training data.\n",
        "- The validation accuracy is also high at 98.33%, also indicating that the model performed well on unseed validation data.\n",
        "\n",
        "For Model 2:\n",
        "- It achieved higher training loss at 0.4181 compared to Model 1, indicating that the L2 regularization affected the weights more, resulting in a lesser fit compared to Model 1.\n",
        "- The validation loss is also higher compared to Model 1 at 0.3649, indicating that Model 2 is less effective in generalizing unseen data than Model 1.\n",
        "- The training accuracy of Model 2 is at 94.88 which is slightly lower compared to Model 1, indicating that the regularization affected the training data from fitting too closely.\n",
        "- The validation accuracy of Model 2 is at 94.22% which is also lower compared to Model 1, which still indicates good performance on unseen validation data.\n",
        "\n",
        "Overall, Model 1 without the use of regularization achieved slightly better performance in terms of both accuracy and loss on both the training and validation data compared to Model 2 with L2 regularization. Even though Model 2 is outperformed by Model 1, Model 2 still performed well and may also improve generalization of unseen data due to applying regularization which helps prevent data from overfitting."
      ],
      "metadata": {
        "id": "6aIpFwv4FZSo"
      },
      "id": "6aIpFwv4FZSo"
    },
    {
      "cell_type": "code",
      "source": [
        "def plot_loss_accuracy(history_1, history_2):\n",
        "    fig, axs = plt.subplots(2, 2, figsize=(14, 10))\n",
        "\n",
        "    # Plot Model 1 Loss\n",
        "    axs[0, 0].plot(history_1.history[\"loss\"], label=\"Model 1 Train Loss\", color='red')\n",
        "    axs[0, 0].plot(history_1.history[\"val_loss\"], label=\"Model 1 Validation Loss\", color='blue')\n",
        "    axs[0, 0].set_title('Model 1 Loss')\n",
        "    axs[0, 0].set_xlabel('Epochs')\n",
        "    axs[0, 0].set_ylabel('Loss')\n",
        "    axs[0, 0].legend()\n",
        "\n",
        "    # Plot Model 2 Loss\n",
        "    axs[0, 1].plot(history_2.history[\"loss\"], label=\"Model 2 Train Loss\", color='red')\n",
        "    axs[0, 1].plot(history_2.history[\"val_loss\"], label=\"Model 2 Validation Loss\", color='blue')\n",
        "    axs[0, 1].set_title('Model 2 Loss')\n",
        "    axs[0, 1].set_xlabel('Epochs')\n",
        "    axs[0, 1].set_ylabel('Loss')\n",
        "    axs[0, 1].legend()\n",
        "\n",
        "    # Plot Model 1 Accuracy\n",
        "    axs[1, 0].plot(history_1.history[\"accuracy\"], label=\"Model 1 Train Accuracy\", color='red')\n",
        "    axs[1, 0].plot(history_1.history[\"val_accuracy\"], label=\"Model 1 Validation Accuracy\", color='blue')\n",
        "    axs[1, 0].set_title('Model 1 Accuracy')\n",
        "    axs[1, 0].set_xlabel('Epochs')\n",
        "    axs[1, 0].set_ylabel('Accuracy')\n",
        "    axs[1, 0].legend()\n",
        "\n",
        "    # Plot Model 2 Accuracy\n",
        "    axs[1, 1].plot(history_2.history[\"accuracy\"], label=\"Model 2 Train Accuracy\", color='red')\n",
        "    axs[1, 1].plot(history_2.history[\"val_accuracy\"], label=\"Model 2 Validation Accuracy\", color='blue')\n",
        "    axs[1, 1].set_title('Model 2 Accuracy')\n",
        "    axs[1, 1].set_xlabel('Epochs')\n",
        "    axs[1, 1].set_ylabel('Accuracy')\n",
        "    axs[1, 1].legend()\n",
        "\n",
        "    plt.tight_layout()\n",
        "    plt.show()\n",
        "\n",
        "plot_loss_accuracy(history_1, history_2)"
      ],
      "metadata": {
        "colab": {
          "base_uri": "https://localhost:8080/",
          "height": 1000
        },
        "id": "I3twpHCShZj2",
        "outputId": "2aa3b666-0d96-4791-93b5-50610a477433"
      },
      "id": "I3twpHCShZj2",
      "execution_count": 82,
      "outputs": [
        {
          "output_type": "display_data",
          "data": {
            "text/plain": [
              "<Figure size 1400x1000 with 4 Axes>"
            ],
            "image/png": "[encoded data removed]"
          },
          "metadata": {}
        }
      ]
    },
    {
      "cell_type": "markdown",
      "source": [
        "For Model 1 Loss:\n",
        "- Both the training loss smoothly decreases as epochs increase while the validation loss also decreases as epochs increase but not as smoothly as the training loss.\n",
        "- The validation and training loss curve is close together, indicating that the model generalized well to unseen data.\n",
        "\n",
        "For Model 2 Loss:\n",
        "- Similar to Model 1, training loss smoothly curves as epochs increase while the validation loss not as smoothly as the training loss.\n",
        "- The validation and training loss is very close together, indicating great generalization to unseen data.\n",
        "\n",
        "For Model 1 Accuracy:\n",
        "- The training accuracy increases smoothly as epochs increase while validation accuracy also increases but not as smooth as the training accuracy.\n",
        "- The traning accuracy and validation accuracy is close together, indicating good generalization.\n",
        "\n",
        "For Model 2 Accuracy:\n",
        "- Similar to Model 1, the traning accuracy smoothly curves as epochs increase while validation accuracy fluctuates from increasing to decreasing as epochs increase.\n",
        "\n",
        "Overall, Model 1 and Model 2 performed well, with high validation accuracy and relatively low validation loss."
      ],
      "metadata": {
        "id": "8sbRQg9GKYAy"
      },
      "id": "8sbRQg9GKYAy"
    },
    {
      "cell_type": "markdown",
      "id": "classified-campaign",
      "metadata": {
        "id": "classified-campaign"
      },
      "source": [
        "#### **Conclusion**"
      ]
    },
    {
      "cell_type": "markdown",
      "id": "relevant-thunder",
      "metadata": {
        "id": "relevant-thunder"
      },
      "source": [
        "In this activity, we explored building and training neural networks with regularization, visualizing models with regularization, and evaluating the result of models with regularization using the MNIST dataset. In the supplementary activity, we were tasked to create two models and compare their performances. Model 1 was built with two hidden layers, each with their own dropout layer to prevent overfitting. Model 1 achieved great results in terms of both training and validation accuracy, this is without using any regularization techniques. Model 2 on the other hand incorporated regularization inside the hidden layers to promote generalization and reducing the risk of overfitting using L2 regularization. Even though Model 1 achieved better performance than Model 2, Model 2 still performed well. In conclusion, both Model 1 and Model 2 achieved great results using the MNIST dataset."
      ]
    }
  ],
  "metadata": {
    "kernelspec": {
      "display_name": "Python 3",
      "language": "python",
      "name": "python3"
    },
    "language_info": {
      "codemirror_mode": {
        "name": "ipython",
        "version": 3
      },
      "file_extension": ".py",
      "mimetype": "text/x-python",
      "name": "python",
      "nbconvert_exporter": "python",
      "pygments_lexer": "ipython3",
      "version": "3.7.10"
    },
    "colab": {
      "provenance": []
    }
  },
  "nbformat": 4,
  "nbformat_minor": 5
}